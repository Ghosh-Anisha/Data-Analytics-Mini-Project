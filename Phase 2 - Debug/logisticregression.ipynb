{
 "cells": [
  {
   "cell_type": "code",
   "execution_count": 5,
   "id": "d876d8df",
   "metadata": {},
   "outputs": [],
   "source": [
    "# Import libraries\n",
    "import numpy as np\n",
    "import pandas as pd\n",
    "import matplotlib.pyplot as plt\n",
    "import seaborn as sns"
   ]
  },
  {
   "cell_type": "code",
   "execution_count": 38,
   "id": "2609e4ba",
   "metadata": {},
   "outputs": [],
   "source": [
    "# Import Dataset\n",
    "data=pd.read_csv(r\"d:\\Data-Analytics-Mini-Project\\final_dataset.csv\")\n",
    "data.drop('EmployeeNumber', axis=1, inplace=True)"
   ]
  },
  {
   "cell_type": "code",
   "execution_count": 39,
   "id": "aa6020ed",
   "metadata": {},
   "outputs": [
    {
     "name": "stdout",
     "output_type": "stream",
     "text": [
      "<class 'pandas.core.frame.DataFrame'>\n",
      "RangeIndex: 1470 entries, 0 to 1469\n",
      "Data columns (total 28 columns):\n",
      " #   Column                    Non-Null Count  Dtype\n",
      "---  ------                    --------------  -----\n",
      " 0   Unnamed: 0                1470 non-null   int64\n",
      " 1   Age                       1470 non-null   int64\n",
      " 2   Attrition                 1470 non-null   int64\n",
      " 3   Department                1470 non-null   int64\n",
      " 4   DistanceFromHome          1470 non-null   int64\n",
      " 5   Education                 1470 non-null   int64\n",
      " 6   EducationField            1470 non-null   int64\n",
      " 7   EnvironmentSatisfaction   1470 non-null   int64\n",
      " 8   Gender                    1470 non-null   int64\n",
      " 9   JobInvolvement            1470 non-null   int64\n",
      " 10  JobLevel                  1470 non-null   int64\n",
      " 11  JobRole                   1470 non-null   int64\n",
      " 12  JobSatisfaction           1470 non-null   int64\n",
      " 13  MaritalStatus             1470 non-null   int64\n",
      " 14  MonthlyIncome             1470 non-null   int64\n",
      " 15  NumCompaniesWorked        1470 non-null   int64\n",
      " 16  OverTime                  1470 non-null   int64\n",
      " 17  PercentSalaryHike         1470 non-null   int64\n",
      " 18  PerformanceRating         1470 non-null   int64\n",
      " 19  RelationshipSatisfaction  1470 non-null   int64\n",
      " 20  StockOptionLevel          1470 non-null   int64\n",
      " 21  TotalWorkingYears         1470 non-null   int64\n",
      " 22  TrainingTimesLastYear     1470 non-null   int64\n",
      " 23  WorkLifeBalance           1470 non-null   int64\n",
      " 24  YearsAtCompany            1470 non-null   int64\n",
      " 25  YearsInCurrentRole        1470 non-null   int64\n",
      " 26  YearsSinceLastPromotion   1470 non-null   int64\n",
      " 27  YearsWithCurrManager      1470 non-null   int64\n",
      "dtypes: int64(28)\n",
      "memory usage: 321.7 KB\n"
     ]
    }
   ],
   "source": [
    "data['Attrition'] = data['Attrition'].apply(lambda x: 1 if x=='No' else 2)\n",
    "data['Gender'] = data['Gender'].apply(lambda x: 1 if x=='Male' else 2)\n",
    "data['OverTime'] = data['OverTime'].apply(lambda x: 2 if x=='No' else 1)\n",
    "#Marital Status\n",
    "MaritalStatus_map = {'Single':1, 'Married':2, 'Divorced':3}\n",
    "data['MaritalStatus'] = data['MaritalStatus'].map(MaritalStatus_map)\n",
    "#Education Field\n",
    "EducationField_map = {'Life Sciences':1, 'Medical':2, 'Marketing':3, 'Technical Degree':4,\n",
    "                     'Human Resources':5, 'Other':6}\n",
    "data['EducationField'] = data['EducationField'].map(EducationField_map)\n",
    "#Job Role\n",
    "JobRole_map = {'Sales Executive':1,'Sales Representative':2,'Laboratory Technician':3,'Manufacturing Director':4,\n",
    "              'Healthcare Representative':5,'Manager':6,'Research Scientist':7,'Research Director':8,'Human Resources':9}\n",
    "data['JobRole'] = data['JobRole'].map(JobRole_map)\n",
    "#Department\n",
    "Department_map = {'Sales':1, 'Research & Development':2, 'Human Resources':3}\n",
    "data['Department'] = data['Department'].map(Department_map)\n",
    "data.info()"
   ]
  },
  {
   "cell_type": "code",
   "execution_count": 40,
   "id": "9cb84edc",
   "metadata": {},
   "outputs": [],
   "source": [
    "x = data.drop('Attrition',axis=1,inplace=False)\n",
    "y = data[\"Attrition\"]"
   ]
  },
  {
   "cell_type": "code",
   "execution_count": 41,
   "id": "e10b120b",
   "metadata": {},
   "outputs": [
    {
     "data": {
      "text/plain": [
       "0    2\n",
       "1    1\n",
       "2    2\n",
       "3    1\n",
       "4    1\n",
       "Name: Attrition, dtype: int64"
      ]
     },
     "execution_count": 41,
     "metadata": {},
     "output_type": "execute_result"
    }
   ],
   "source": [
    "y.head()"
   ]
  },
  {
   "cell_type": "code",
   "execution_count": 42,
   "id": "1b699450",
   "metadata": {},
   "outputs": [
    {
     "name": "stdout",
     "output_type": "stream",
     "text": [
      "[0.99192633 0.00806252]\n"
     ]
    }
   ],
   "source": [
    "# Reduce the dimensions by PCA\n",
    "from sklearn.decomposition import PCA\n",
    "pca = PCA(n_components = 2)\n",
    "X1= pca.fit_transform(x)\n",
    "explained_variance = pca.explained_variance_ratio_\n",
    "print(explained_variance)\n"
   ]
  },
  {
   "cell_type": "code",
   "execution_count": 43,
   "id": "15fb0432",
   "metadata": {},
   "outputs": [],
   "source": [
    "# split into training & testing dataset\n",
    "from sklearn.model_selection import train_test_split\n",
    "x_train, x_test, Y_train, Y_test = train_test_split(X1, y, test_size = 0.2, random_state = 0)"
   ]
  },
  {
   "cell_type": "code",
   "execution_count": 44,
   "id": "2e9e95ca",
   "metadata": {},
   "outputs": [
    {
     "data": {
      "text/plain": [
       "(1176,)"
      ]
     },
     "execution_count": 44,
     "metadata": {},
     "output_type": "execute_result"
    }
   ],
   "source": [
    "Y_train.shape"
   ]
  },
  {
   "cell_type": "code",
   "execution_count": 45,
   "id": "fd4d12bf",
   "metadata": {},
   "outputs": [
    {
     "data": {
      "text/plain": [
       "LogisticRegression(random_state=0)"
      ]
     },
     "execution_count": 45,
     "metadata": {},
     "output_type": "execute_result"
    }
   ],
   "source": [
    "# train the logistic model using the principle components\n",
    "from sklearn.linear_model import LogisticRegression\n",
    "model = LogisticRegression(random_state = 0)\n",
    "model.fit(x_train, Y_train)"
   ]
  },
  {
   "cell_type": "code",
   "execution_count": 46,
   "id": "305d1322",
   "metadata": {},
   "outputs": [],
   "source": [
    "#using model to predict the testing set\n",
    "Y_pred = model.predict(x_test)"
   ]
  },
  {
   "cell_type": "code",
   "execution_count": 47,
   "id": "1e4039e2",
   "metadata": {},
   "outputs": [],
   "source": [
    "#Making confusion matrix\n",
    "from sklearn.metrics import confusion_matrix\n",
    "cm = confusion_matrix(Y_test, Y_pred)"
   ]
  },
  {
   "cell_type": "code",
   "execution_count": 48,
   "id": "9693f94a",
   "metadata": {},
   "outputs": [
    {
     "name": "stdout",
     "output_type": "stream",
     "text": [
      "0.8333333333333334\n"
     ]
    }
   ],
   "source": [
    "from sklearn import metrics\n",
    "acc=metrics.accuracy_score(Y_test,Y_pred)\n",
    "print(acc)"
   ]
  }
 ],
 "metadata": {
  "kernelspec": {
   "display_name": "Python 3 (ipykernel)",
   "language": "python",
   "name": "python3"
  },
  "language_info": {
   "codemirror_mode": {
    "name": "ipython",
    "version": 3
   },
   "file_extension": ".py",
   "mimetype": "text/x-python",
   "name": "python",
   "nbconvert_exporter": "python",
   "pygments_lexer": "ipython3",
   "version": "3.9.0"
  }
 },
 "nbformat": 4,
 "nbformat_minor": 5
}
